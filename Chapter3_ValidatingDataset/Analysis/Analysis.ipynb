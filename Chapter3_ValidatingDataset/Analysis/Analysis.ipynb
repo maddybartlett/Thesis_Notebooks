{
 "cells": [
  {
   "cell_type": "code",
   "execution_count": 1,
   "metadata": {},
   "outputs": [
    {
     "name": "stderr",
     "output_type": "stream",
     "text": [
      "Registered S3 methods overwritten by 'ggplot2':\n",
      "  method         from \n",
      "  [.quosures     rlang\n",
      "  c.quosures     rlang\n",
      "  print.quosures rlang\n",
      "Registered S3 method overwritten by 'rvest':\n",
      "  method            from\n",
      "  read_xml.response xml2\n",
      "-- Attaching packages --------------------------------------- tidyverse 1.2.1 --\n",
      "v ggplot2 3.1.1       v purrr   0.3.2  \n",
      "v tibble  2.1.1       v dplyr   0.8.0.1\n",
      "v tidyr   0.8.3       v stringr 1.4.0  \n",
      "v readr   1.3.1       v forcats 0.4.0  \n",
      "-- Conflicts ------------------------------------------ tidyverse_conflicts() --\n",
      "x dplyr::filter() masks stats::filter()\n",
      "x dplyr::lag()    masks stats::lag()\n"
     ]
    },
    {
     "ename": "ERROR",
     "evalue": "Error in library(psych): there is no package called 'psych'\n",
     "output_type": "error",
     "traceback": [
      "Error in library(psych): there is no package called 'psych'\nTraceback:\n",
      "1. library(psych)"
     ]
    }
   ],
   "source": [
    "# Packages\n",
    "library(tidyverse)\n",
    "library(psych)\n",
    "library(irr)\n",
    "library(ggpubr)\n",
    "library(cocron)\n",
    "library(sjstats)"
   ]
  },
  {
   "cell_type": "markdown",
   "metadata": {},
   "source": [
    "Load data"
   ]
  },
  {
   "cell_type": "code",
   "execution_count": 3,
   "metadata": {},
   "outputs": [
    {
     "data": {
      "text/html": [
       "<table>\n",
       "<thead><tr><th scope=col>video</th><th scope=col>condition</th><th scope=col>R1</th><th scope=col>R2</th><th scope=col>R3</th><th scope=col>R4</th><th scope=col>R5</th></tr></thead>\n",
       "<tbody>\n",
       "\t<tr><td> 1</td><td>2 </td><td> 4</td><td> 2</td><td> 5</td><td>NA</td><td>NA</td></tr>\n",
       "\t<tr><td>10</td><td>2 </td><td>NA</td><td>NA</td><td> 4</td><td> 6</td><td> 5</td></tr>\n",
       "\t<tr><td>11</td><td>2 </td><td>NA</td><td> 5</td><td> 4</td><td>NA</td><td>NA</td></tr>\n",
       "\t<tr><td>12</td><td>2 </td><td>NA</td><td>NA</td><td> 5</td><td>NA</td><td> 6</td></tr>\n",
       "\t<tr><td>13</td><td>2 </td><td>NA</td><td> 1</td><td>NA</td><td> 1</td><td>NA</td></tr>\n",
       "\t<tr><td>14</td><td>2 </td><td>NA</td><td> 5</td><td>NA</td><td> 4</td><td> 1</td></tr>\n",
       "\t<tr><td>15</td><td>2 </td><td>NA</td><td>NA</td><td> 4</td><td> 5</td><td> 3</td></tr>\n",
       "\t<tr><td> 2</td><td>2 </td><td> 4</td><td> 6</td><td>NA</td><td> 3</td><td>NA</td></tr>\n",
       "\t<tr><td> 3</td><td>2 </td><td> 6</td><td> 6</td><td>NA</td><td>NA</td><td> 5</td></tr>\n",
       "\t<tr><td> 4</td><td>2 </td><td> 6</td><td>NA</td><td> 5</td><td> 5</td><td>NA</td></tr>\n",
       "\t<tr><td> 5</td><td>2 </td><td> 5</td><td>NA</td><td> 3</td><td>NA</td><td> 4</td></tr>\n",
       "\t<tr><td> 6</td><td>2 </td><td> 6</td><td>NA</td><td>NA</td><td> 6</td><td> 6</td></tr>\n",
       "\t<tr><td> 7</td><td>2 </td><td> 4</td><td> 6</td><td> 5</td><td> 6</td><td>NA</td></tr>\n",
       "\t<tr><td> 8</td><td>2 </td><td> 6</td><td> 5</td><td> 3</td><td>NA</td><td> 3</td></tr>\n",
       "\t<tr><td> 9</td><td>2 </td><td> 1</td><td> 6</td><td>NA</td><td> 5</td><td> 3</td></tr>\n",
       "\t<tr><td> 1</td><td>5 </td><td> 5</td><td> 4</td><td> 4</td><td>NA</td><td>NA</td></tr>\n",
       "\t<tr><td>10</td><td>5 </td><td>NA</td><td>NA</td><td> 3</td><td> 5</td><td> 5</td></tr>\n",
       "\t<tr><td>11</td><td>5 </td><td>NA</td><td> 5</td><td> 3</td><td>NA</td><td>NA</td></tr>\n",
       "\t<tr><td>12</td><td>5 </td><td>NA</td><td>NA</td><td> 3</td><td>NA</td><td> 3</td></tr>\n",
       "\t<tr><td>13</td><td>5 </td><td>NA</td><td> 1</td><td>NA</td><td> 3</td><td>NA</td></tr>\n",
       "\t<tr><td>14</td><td>5 </td><td>NA</td><td> 5</td><td>NA</td><td> 2</td><td> 1</td></tr>\n",
       "\t<tr><td>15</td><td>5 </td><td>NA</td><td>NA</td><td> 2</td><td> 5</td><td> 1</td></tr>\n",
       "\t<tr><td> 2</td><td>5 </td><td> 3</td><td> 5</td><td>NA</td><td> 4</td><td>NA</td></tr>\n",
       "\t<tr><td> 3</td><td>5 </td><td> 6</td><td> 6</td><td>NA</td><td>NA</td><td> 4</td></tr>\n",
       "\t<tr><td> 4</td><td>5 </td><td> 4</td><td>NA</td><td> 5</td><td> 5</td><td>NA</td></tr>\n",
       "\t<tr><td> 5</td><td>5 </td><td> 4</td><td>NA</td><td> 3</td><td>NA</td><td> 5</td></tr>\n",
       "\t<tr><td> 6</td><td>5 </td><td> 4</td><td>NA</td><td>NA</td><td> 4</td><td> 5</td></tr>\n",
       "\t<tr><td> 7</td><td>5 </td><td> 4</td><td> 6</td><td> 2</td><td> 6</td><td>NA</td></tr>\n",
       "\t<tr><td> 8</td><td>5 </td><td> 3</td><td> 6</td><td> 4</td><td>NA</td><td> 4</td></tr>\n",
       "\t<tr><td> 9</td><td>5 </td><td> 1</td><td> 6</td><td>NA</td><td> 5</td><td> 2</td></tr>\n",
       "\t<tr><td>...</td><td>...</td><td>...</td><td>...</td><td>...</td><td>...</td><td>...</td></tr>\n",
       "\t<tr><td>31</td><td>3 </td><td> 2</td><td> 3</td><td> 1</td><td>NA</td><td>NA</td></tr>\n",
       "\t<tr><td>40</td><td>3 </td><td>NA</td><td>NA</td><td> 5</td><td> 0</td><td> 0</td></tr>\n",
       "\t<tr><td>41</td><td>3 </td><td>NA</td><td> 4</td><td> 3</td><td>NA</td><td>NA</td></tr>\n",
       "\t<tr><td>42</td><td>3 </td><td>NA</td><td>NA</td><td> 2</td><td>NA</td><td> 5</td></tr>\n",
       "\t<tr><td>43</td><td>3 </td><td>NA</td><td> 3</td><td>NA</td><td> 1</td><td>NA</td></tr>\n",
       "\t<tr><td>44</td><td>3 </td><td>NA</td><td> 0</td><td>NA</td><td> 0</td><td> 1</td></tr>\n",
       "\t<tr><td>45</td><td>3 </td><td>NA</td><td>NA</td><td> 4</td><td> 5</td><td> 5</td></tr>\n",
       "\t<tr><td>32</td><td>3 </td><td> 0</td><td> 5</td><td>NA</td><td> 4</td><td>NA</td></tr>\n",
       "\t<tr><td>33</td><td>3 </td><td> 1</td><td> 5</td><td>NA</td><td>NA</td><td> 3</td></tr>\n",
       "\t<tr><td>34</td><td>3 </td><td> 2</td><td>NA</td><td> 2</td><td> 3</td><td>NA</td></tr>\n",
       "\t<tr><td>35</td><td>3 </td><td> 2</td><td>NA</td><td> 4</td><td>NA</td><td> 2</td></tr>\n",
       "\t<tr><td>36</td><td>3 </td><td> 1</td><td>NA</td><td>NA</td><td> 3</td><td> 1</td></tr>\n",
       "\t<tr><td>37</td><td>3 </td><td> 0</td><td> 3</td><td> 0</td><td> 1</td><td>NA</td></tr>\n",
       "\t<tr><td>38</td><td>3 </td><td> 1</td><td> 4</td><td> 4</td><td>NA</td><td> 1</td></tr>\n",
       "\t<tr><td>39</td><td>3 </td><td> 2</td><td> 6</td><td>NA</td><td> 3</td><td> 3</td></tr>\n",
       "\t<tr><td>31</td><td>6 </td><td> 2</td><td> 3</td><td> 3</td><td>NA</td><td>NA</td></tr>\n",
       "\t<tr><td>40</td><td>6 </td><td>NA</td><td>NA</td><td> 2</td><td> 2</td><td> 1</td></tr>\n",
       "\t<tr><td>41</td><td>6 </td><td>NA</td><td> 4</td><td> 3</td><td>NA</td><td>NA</td></tr>\n",
       "\t<tr><td>42</td><td>6 </td><td>NA</td><td>NA</td><td> 4</td><td>NA</td><td> 1</td></tr>\n",
       "\t<tr><td>43</td><td>6 </td><td>NA</td><td> 1</td><td>NA</td><td> 4</td><td>NA</td></tr>\n",
       "\t<tr><td>44</td><td>6 </td><td>NA</td><td> 3</td><td>NA</td><td> 1</td><td> 0</td></tr>\n",
       "\t<tr><td>45</td><td>6 </td><td>NA</td><td>NA</td><td> 4</td><td> 4</td><td> 4</td></tr>\n",
       "\t<tr><td>32</td><td>6 </td><td> 0</td><td> 4</td><td>NA</td><td> 2</td><td>NA</td></tr>\n",
       "\t<tr><td>33</td><td>6 </td><td> 1</td><td> 3</td><td>NA</td><td>NA</td><td> 1</td></tr>\n",
       "\t<tr><td>34</td><td>6 </td><td> 3</td><td>NA</td><td> 3</td><td> 4</td><td>NA</td></tr>\n",
       "\t<tr><td>35</td><td>6 </td><td> 2</td><td>NA</td><td> 2</td><td>NA</td><td> 3</td></tr>\n",
       "\t<tr><td>36</td><td>6 </td><td> 2</td><td>NA</td><td>NA</td><td> 3</td><td> 1</td></tr>\n",
       "\t<tr><td>37</td><td>6 </td><td> 0</td><td> 0</td><td> 2</td><td> 1</td><td>NA</td></tr>\n",
       "\t<tr><td>38</td><td>6 </td><td> 3</td><td> 3</td><td> 2</td><td>NA</td><td> 3</td></tr>\n",
       "\t<tr><td>39</td><td>6 </td><td> 3</td><td> 6</td><td>NA</td><td> 4</td><td> 2</td></tr>\n",
       "</tbody>\n",
       "</table>\n"
      ],
      "text/latex": [
       "\\begin{tabular}{r|lllllll}\n",
       " video & condition & R1 & R2 & R3 & R4 & R5\\\\\n",
       "\\hline\n",
       "\t  1 & 2  &  4 &  2 &  5 & NA & NA\\\\\n",
       "\t 10 & 2  & NA & NA &  4 &  6 &  5\\\\\n",
       "\t 11 & 2  & NA &  5 &  4 & NA & NA\\\\\n",
       "\t 12 & 2  & NA & NA &  5 & NA &  6\\\\\n",
       "\t 13 & 2  & NA &  1 & NA &  1 & NA\\\\\n",
       "\t 14 & 2  & NA &  5 & NA &  4 &  1\\\\\n",
       "\t 15 & 2  & NA & NA &  4 &  5 &  3\\\\\n",
       "\t  2 & 2  &  4 &  6 & NA &  3 & NA\\\\\n",
       "\t  3 & 2  &  6 &  6 & NA & NA &  5\\\\\n",
       "\t  4 & 2  &  6 & NA &  5 &  5 & NA\\\\\n",
       "\t  5 & 2  &  5 & NA &  3 & NA &  4\\\\\n",
       "\t  6 & 2  &  6 & NA & NA &  6 &  6\\\\\n",
       "\t  7 & 2  &  4 &  6 &  5 &  6 & NA\\\\\n",
       "\t  8 & 2  &  6 &  5 &  3 & NA &  3\\\\\n",
       "\t  9 & 2  &  1 &  6 & NA &  5 &  3\\\\\n",
       "\t  1 & 5  &  5 &  4 &  4 & NA & NA\\\\\n",
       "\t 10 & 5  & NA & NA &  3 &  5 &  5\\\\\n",
       "\t 11 & 5  & NA &  5 &  3 & NA & NA\\\\\n",
       "\t 12 & 5  & NA & NA &  3 & NA &  3\\\\\n",
       "\t 13 & 5  & NA &  1 & NA &  3 & NA\\\\\n",
       "\t 14 & 5  & NA &  5 & NA &  2 &  1\\\\\n",
       "\t 15 & 5  & NA & NA &  2 &  5 &  1\\\\\n",
       "\t  2 & 5  &  3 &  5 & NA &  4 & NA\\\\\n",
       "\t  3 & 5  &  6 &  6 & NA & NA &  4\\\\\n",
       "\t  4 & 5  &  4 & NA &  5 &  5 & NA\\\\\n",
       "\t  5 & 5  &  4 & NA &  3 & NA &  5\\\\\n",
       "\t  6 & 5  &  4 & NA & NA &  4 &  5\\\\\n",
       "\t  7 & 5  &  4 &  6 &  2 &  6 & NA\\\\\n",
       "\t  8 & 5  &  3 &  6 &  4 & NA &  4\\\\\n",
       "\t  9 & 5  &  1 &  6 & NA &  5 &  2\\\\\n",
       "\t ... & ... & ... & ... & ... & ... & ...\\\\\n",
       "\t 31 & 3  &  2 &  3 &  1 & NA & NA\\\\\n",
       "\t 40 & 3  & NA & NA &  5 &  0 &  0\\\\\n",
       "\t 41 & 3  & NA &  4 &  3 & NA & NA\\\\\n",
       "\t 42 & 3  & NA & NA &  2 & NA &  5\\\\\n",
       "\t 43 & 3  & NA &  3 & NA &  1 & NA\\\\\n",
       "\t 44 & 3  & NA &  0 & NA &  0 &  1\\\\\n",
       "\t 45 & 3  & NA & NA &  4 &  5 &  5\\\\\n",
       "\t 32 & 3  &  0 &  5 & NA &  4 & NA\\\\\n",
       "\t 33 & 3  &  1 &  5 & NA & NA &  3\\\\\n",
       "\t 34 & 3  &  2 & NA &  2 &  3 & NA\\\\\n",
       "\t 35 & 3  &  2 & NA &  4 & NA &  2\\\\\n",
       "\t 36 & 3  &  1 & NA & NA &  3 &  1\\\\\n",
       "\t 37 & 3  &  0 &  3 &  0 &  1 & NA\\\\\n",
       "\t 38 & 3  &  1 &  4 &  4 & NA &  1\\\\\n",
       "\t 39 & 3  &  2 &  6 & NA &  3 &  3\\\\\n",
       "\t 31 & 6  &  2 &  3 &  3 & NA & NA\\\\\n",
       "\t 40 & 6  & NA & NA &  2 &  2 &  1\\\\\n",
       "\t 41 & 6  & NA &  4 &  3 & NA & NA\\\\\n",
       "\t 42 & 6  & NA & NA &  4 & NA &  1\\\\\n",
       "\t 43 & 6  & NA &  1 & NA &  4 & NA\\\\\n",
       "\t 44 & 6  & NA &  3 & NA &  1 &  0\\\\\n",
       "\t 45 & 6  & NA & NA &  4 &  4 &  4\\\\\n",
       "\t 32 & 6  &  0 &  4 & NA &  2 & NA\\\\\n",
       "\t 33 & 6  &  1 &  3 & NA & NA &  1\\\\\n",
       "\t 34 & 6  &  3 & NA &  3 &  4 & NA\\\\\n",
       "\t 35 & 6  &  2 & NA &  2 & NA &  3\\\\\n",
       "\t 36 & 6  &  2 & NA & NA &  3 &  1\\\\\n",
       "\t 37 & 6  &  0 &  0 &  2 &  1 & NA\\\\\n",
       "\t 38 & 6  &  3 &  3 &  2 & NA &  3\\\\\n",
       "\t 39 & 6  &  3 &  6 & NA &  4 &  2\\\\\n",
       "\\end{tabular}\n"
      ],
      "text/markdown": [
       "\n",
       "| video | condition | R1 | R2 | R3 | R4 | R5 |\n",
       "|---|---|---|---|---|---|---|\n",
       "|  1 | 2  |  4 |  2 |  5 | NA | NA |\n",
       "| 10 | 2  | NA | NA |  4 |  6 |  5 |\n",
       "| 11 | 2  | NA |  5 |  4 | NA | NA |\n",
       "| 12 | 2  | NA | NA |  5 | NA |  6 |\n",
       "| 13 | 2  | NA |  1 | NA |  1 | NA |\n",
       "| 14 | 2  | NA |  5 | NA |  4 |  1 |\n",
       "| 15 | 2  | NA | NA |  4 |  5 |  3 |\n",
       "|  2 | 2  |  4 |  6 | NA |  3 | NA |\n",
       "|  3 | 2  |  6 |  6 | NA | NA |  5 |\n",
       "|  4 | 2  |  6 | NA |  5 |  5 | NA |\n",
       "|  5 | 2  |  5 | NA |  3 | NA |  4 |\n",
       "|  6 | 2  |  6 | NA | NA |  6 |  6 |\n",
       "|  7 | 2  |  4 |  6 |  5 |  6 | NA |\n",
       "|  8 | 2  |  6 |  5 |  3 | NA |  3 |\n",
       "|  9 | 2  |  1 |  6 | NA |  5 |  3 |\n",
       "|  1 | 5  |  5 |  4 |  4 | NA | NA |\n",
       "| 10 | 5  | NA | NA |  3 |  5 |  5 |\n",
       "| 11 | 5  | NA |  5 |  3 | NA | NA |\n",
       "| 12 | 5  | NA | NA |  3 | NA |  3 |\n",
       "| 13 | 5  | NA |  1 | NA |  3 | NA |\n",
       "| 14 | 5  | NA |  5 | NA |  2 |  1 |\n",
       "| 15 | 5  | NA | NA |  2 |  5 |  1 |\n",
       "|  2 | 5  |  3 |  5 | NA |  4 | NA |\n",
       "|  3 | 5  |  6 |  6 | NA | NA |  4 |\n",
       "|  4 | 5  |  4 | NA |  5 |  5 | NA |\n",
       "|  5 | 5  |  4 | NA |  3 | NA |  5 |\n",
       "|  6 | 5  |  4 | NA | NA |  4 |  5 |\n",
       "|  7 | 5  |  4 |  6 |  2 |  6 | NA |\n",
       "|  8 | 5  |  3 |  6 |  4 | NA |  4 |\n",
       "|  9 | 5  |  1 |  6 | NA |  5 |  2 |\n",
       "| ... | ... | ... | ... | ... | ... | ... |\n",
       "| 31 | 3  |  2 |  3 |  1 | NA | NA |\n",
       "| 40 | 3  | NA | NA |  5 |  0 |  0 |\n",
       "| 41 | 3  | NA |  4 |  3 | NA | NA |\n",
       "| 42 | 3  | NA | NA |  2 | NA |  5 |\n",
       "| 43 | 3  | NA |  3 | NA |  1 | NA |\n",
       "| 44 | 3  | NA |  0 | NA |  0 |  1 |\n",
       "| 45 | 3  | NA | NA |  4 |  5 |  5 |\n",
       "| 32 | 3  |  0 |  5 | NA |  4 | NA |\n",
       "| 33 | 3  |  1 |  5 | NA | NA |  3 |\n",
       "| 34 | 3  |  2 | NA |  2 |  3 | NA |\n",
       "| 35 | 3  |  2 | NA |  4 | NA |  2 |\n",
       "| 36 | 3  |  1 | NA | NA |  3 |  1 |\n",
       "| 37 | 3  |  0 |  3 |  0 |  1 | NA |\n",
       "| 38 | 3  |  1 |  4 |  4 | NA |  1 |\n",
       "| 39 | 3  |  2 |  6 | NA |  3 |  3 |\n",
       "| 31 | 6  |  2 |  3 |  3 | NA | NA |\n",
       "| 40 | 6  | NA | NA |  2 |  2 |  1 |\n",
       "| 41 | 6  | NA |  4 |  3 | NA | NA |\n",
       "| 42 | 6  | NA | NA |  4 | NA |  1 |\n",
       "| 43 | 6  | NA |  1 | NA |  4 | NA |\n",
       "| 44 | 6  | NA |  3 | NA |  1 |  0 |\n",
       "| 45 | 6  | NA | NA |  4 |  4 |  4 |\n",
       "| 32 | 6  |  0 |  4 | NA |  2 | NA |\n",
       "| 33 | 6  |  1 |  3 | NA | NA |  1 |\n",
       "| 34 | 6  |  3 | NA |  3 |  4 | NA |\n",
       "| 35 | 6  |  2 | NA |  2 | NA |  3 |\n",
       "| 36 | 6  |  2 | NA | NA |  3 |  1 |\n",
       "| 37 | 6  |  0 |  0 |  2 |  1 | NA |\n",
       "| 38 | 6  |  3 |  3 |  2 | NA |  3 |\n",
       "| 39 | 6  |  3 |  6 | NA |  4 |  2 |\n",
       "\n"
      ],
      "text/plain": [
       "    video condition R1  R2  R3  R4  R5 \n",
       "1    1    2          4   2   5  NA  NA \n",
       "2   10    2         NA  NA   4   6   5 \n",
       "3   11    2         NA   5   4  NA  NA \n",
       "4   12    2         NA  NA   5  NA   6 \n",
       "5   13    2         NA   1  NA   1  NA \n",
       "6   14    2         NA   5  NA   4   1 \n",
       "7   15    2         NA  NA   4   5   3 \n",
       "8    2    2          4   6  NA   3  NA \n",
       "9    3    2          6   6  NA  NA   5 \n",
       "10   4    2          6  NA   5   5  NA \n",
       "11   5    2          5  NA   3  NA   4 \n",
       "12   6    2          6  NA  NA   6   6 \n",
       "13   7    2          4   6   5   6  NA \n",
       "14   8    2          6   5   3  NA   3 \n",
       "15   9    2          1   6  NA   5   3 \n",
       "16   1    5          5   4   4  NA  NA \n",
       "17  10    5         NA  NA   3   5   5 \n",
       "18  11    5         NA   5   3  NA  NA \n",
       "19  12    5         NA  NA   3  NA   3 \n",
       "20  13    5         NA   1  NA   3  NA \n",
       "21  14    5         NA   5  NA   2   1 \n",
       "22  15    5         NA  NA   2   5   1 \n",
       "23   2    5          3   5  NA   4  NA \n",
       "24   3    5          6   6  NA  NA   4 \n",
       "25   4    5          4  NA   5   5  NA \n",
       "26   5    5          4  NA   3  NA   5 \n",
       "27   6    5          4  NA  NA   4   5 \n",
       "28   7    5          4   6   2   6  NA \n",
       "29   8    5          3   6   4  NA   4 \n",
       "30   9    5          1   6  NA   5   2 \n",
       "... ...   ...       ... ... ... ... ...\n",
       "61  31    3          2   3   1  NA  NA \n",
       "62  40    3         NA  NA   5   0   0 \n",
       "63  41    3         NA   4   3  NA  NA \n",
       "64  42    3         NA  NA   2  NA   5 \n",
       "65  43    3         NA   3  NA   1  NA \n",
       "66  44    3         NA   0  NA   0   1 \n",
       "67  45    3         NA  NA   4   5   5 \n",
       "68  32    3          0   5  NA   4  NA \n",
       "69  33    3          1   5  NA  NA   3 \n",
       "70  34    3          2  NA   2   3  NA \n",
       "71  35    3          2  NA   4  NA   2 \n",
       "72  36    3          1  NA  NA   3   1 \n",
       "73  37    3          0   3   0   1  NA \n",
       "74  38    3          1   4   4  NA   1 \n",
       "75  39    3          2   6  NA   3   3 \n",
       "76  31    6          2   3   3  NA  NA \n",
       "77  40    6         NA  NA   2   2   1 \n",
       "78  41    6         NA   4   3  NA  NA \n",
       "79  42    6         NA  NA   4  NA   1 \n",
       "80  43    6         NA   1  NA   4  NA \n",
       "81  44    6         NA   3  NA   1   0 \n",
       "82  45    6         NA  NA   4   4   4 \n",
       "83  32    6          0   4  NA   2  NA \n",
       "84  33    6          1   3  NA  NA   1 \n",
       "85  34    6          3  NA   3   4  NA \n",
       "86  35    6          2  NA   2  NA   3 \n",
       "87  36    6          2  NA  NA   3   1 \n",
       "88  37    6          0   0   2   1  NA \n",
       "89  38    6          3   3   2  NA   3 \n",
       "90  39    6          3   6  NA   4   2 "
      ]
     },
     "metadata": {},
     "output_type": "display_data"
    }
   ],
   "source": [
    "data = read.csv(\"../Data/Input/Responses.csv\")\n",
    "data"
   ]
  },
  {
   "cell_type": "markdown",
   "metadata": {},
   "source": [
    "# Inter-Rater Agreement"
   ]
  },
  {
   "cell_type": "code",
   "execution_count": 4,
   "metadata": {},
   "outputs": [],
   "source": [
    "goalraw <- data[ which(data$condition==1), ]\n",
    "goalskel <- data[ which(data$condition==4), ]\n",
    "\n",
    "aimraw <- data[ which(data$condition==2), ]\n",
    "aimskel <- data[ which(data$condition==5), ]\n",
    "\n",
    "noplayraw <- data[ which(data$condition==3), ]\n",
    "noplayskel <- data[ which(data$condition==6), ]"
   ]
  },
  {
   "cell_type": "code",
   "execution_count": 5,
   "metadata": {},
   "outputs": [],
   "source": [
    "goalall = cbind(goalraw, (goalskel %>% select(3:7)))\n",
    "colnames(goalall)[8] <- \"R6\"\n",
    "colnames(goalall)[9] <- \"R7\"\n",
    "colnames(goalall)[10] <- \"R8\"\n",
    "colnames(goalall)[11] <- \"R9\"\n",
    "colnames(goalall)[12] <- \"R10\"\n",
    "\n",
    "aimall = cbind(aimraw, (aimskel %>% select(3:7)))\n",
    "colnames(aimall)[8] <- \"R6\"\n",
    "colnames(aimall)[9] <- \"R7\"\n",
    "colnames(aimall)[10] <- \"R8\"\n",
    "colnames(aimall)[11] <- \"R9\"\n",
    "colnames(aimall)[12] <- \"R10\"\n",
    "\n",
    "noplayall = cbind(noplayraw, (noplayskel %>% select(3:7)))\n",
    "colnames(noplayall)[8] <- \"R6\"\n",
    "colnames(noplayall)[9] <- \"R7\"\n",
    "colnames(noplayall)[10] <- \"R8\"\n",
    "colnames(noplayall)[11] <- \"R9\"\n",
    "colnames(noplayall)[12] <- \"R10\""
   ]
  },
  {
   "cell_type": "markdown",
   "metadata": {},
   "source": [
    "## Agreement within clip-type across video conditions"
   ]
  },
  {
   "cell_type": "code",
   "execution_count": 6,
   "metadata": {},
   "outputs": [
    {
     "name": "stdout",
     "output_type": "stream",
     "text": [
      "[1] \"Agreement across all Goal-Oriented clips regardless of condition\"\n"
     ]
    },
    {
     "ename": "ERROR",
     "evalue": "Error in kripp.alpha(as.matrix(t(goalall %>% select(3:12))), method = c(\"ordinal\")): could not find function \"kripp.alpha\"\n",
     "output_type": "error",
     "traceback": [
      "Error in kripp.alpha(as.matrix(t(goalall %>% select(3:12))), method = c(\"ordinal\")): could not find function \"kripp.alpha\"\nTraceback:\n"
     ]
    }
   ],
   "source": [
    "print(\"Agreement across all Goal-Oriented clips regardless of condition\")\n",
    "kripp.alpha(as.matrix(t(goalall %>% select(3:12))),method=c('ordinal'))"
   ]
  },
  {
   "cell_type": "code",
   "execution_count": 7,
   "metadata": {},
   "outputs": [
    {
     "name": "stdout",
     "output_type": "stream",
     "text": [
      "[1] \"Agreement across all Aimless clips regardless of condition\"\n"
     ]
    },
    {
     "ename": "ERROR",
     "evalue": "Error in kripp.alpha(as.matrix(t(aimall %>% select(3:12))), method = c(\"ordinal\")): could not find function \"kripp.alpha\"\n",
     "output_type": "error",
     "traceback": [
      "Error in kripp.alpha(as.matrix(t(aimall %>% select(3:12))), method = c(\"ordinal\")): could not find function \"kripp.alpha\"\nTraceback:\n"
     ]
    }
   ],
   "source": [
    "print(\"Agreement across all Aimless clips regardless of condition\")\n",
    "kripp.alpha(as.matrix(t(aimall %>% select(3:12))),method=c('ordinal'))"
   ]
  },
  {
   "cell_type": "code",
   "execution_count": 7,
   "metadata": {},
   "outputs": [
    {
     "name": "stdout",
     "output_type": "stream",
     "text": [
      "[1] \"Agreement across all No Play clips regardless of condition\"\n"
     ]
    },
    {
     "data": {
      "text/plain": [
       " Krippendorff's alpha\n",
       "\n",
       " Subjects = 15 \n",
       "   Raters = 10 \n",
       "    alpha = 0.267 "
      ]
     },
     "metadata": {},
     "output_type": "display_data"
    }
   ],
   "source": [
    "print(\"Agreement across all No Play clips regardless of condition\")\n",
    "kripp.alpha(as.matrix(t(noplayall %>% select(3:12))),method=c('ordinal'))"
   ]
  },
  {
   "cell_type": "markdown",
   "metadata": {},
   "source": [
    "## Agreement in each Condition"
   ]
  },
  {
   "cell_type": "code",
   "execution_count": 8,
   "metadata": {},
   "outputs": [
    {
     "name": "stdout",
     "output_type": "stream",
     "text": [
      "[1] \"Agreement across Full-Scene Goal-Oriented clips\"\n"
     ]
    },
    {
     "data": {
      "text/plain": [
       " Krippendorff's alpha\n",
       "\n",
       " Subjects = 15 \n",
       "   Raters = 5 \n",
       "    alpha = 0.382 "
      ]
     },
     "metadata": {},
     "output_type": "display_data"
    },
    {
     "name": "stdout",
     "output_type": "stream",
     "text": [
      "[1] \"Agreement across Movement-Alone Goal-Oriented clips\"\n"
     ]
    },
    {
     "data": {
      "text/plain": [
       " Krippendorff's alpha\n",
       "\n",
       " Subjects = 15 \n",
       "   Raters = 5 \n",
       "    alpha = 0.368 "
      ]
     },
     "metadata": {},
     "output_type": "display_data"
    }
   ],
   "source": [
    "print(\"Agreement across Full-Scene Goal-Oriented clips\")\n",
    "kripp.alpha(as.matrix(t(goalraw %>% select(3:7))),method=c('ordinal'))\n",
    "\n",
    "print(\"Agreement across Movement-Alone Goal-Oriented clips\")\n",
    "kripp.alpha(as.matrix(t(goalskel %>% select(3:7))),method=c('ordinal'))"
   ]
  },
  {
   "cell_type": "code",
   "execution_count": 9,
   "metadata": {},
   "outputs": [
    {
     "name": "stdout",
     "output_type": "stream",
     "text": [
      "[1] \"Agreement across Full-Scene Aimless clips\"\n"
     ]
    },
    {
     "data": {
      "text/plain": [
       " Krippendorff's alpha\n",
       "\n",
       " Subjects = 15 \n",
       "   Raters = 5 \n",
       "    alpha = 0.247 "
      ]
     },
     "metadata": {},
     "output_type": "display_data"
    },
    {
     "name": "stdout",
     "output_type": "stream",
     "text": [
      "[1] \"Agreement across Movement-Alone Aimless clips\"\n"
     ]
    },
    {
     "data": {
      "text/plain": [
       " Krippendorff's alpha\n",
       "\n",
       " Subjects = 15 \n",
       "   Raters = 5 \n",
       "    alpha = -0.0217 "
      ]
     },
     "metadata": {},
     "output_type": "display_data"
    }
   ],
   "source": [
    "print(\"Agreement across Full-Scene Aimless clips\")\n",
    "kripp.alpha(as.matrix(t(aimraw %>% select(3:7))),method=c('ordinal'))\n",
    "\n",
    "print(\"Agreement across Movement-Alone Aimless clips\")\n",
    "kripp.alpha(as.matrix(t(aimskel %>% select(3:7))),method=c('ordinal'))"
   ]
  },
  {
   "cell_type": "code",
   "execution_count": 10,
   "metadata": {},
   "outputs": [
    {
     "name": "stdout",
     "output_type": "stream",
     "text": [
      "[1] \"Agreement across Full-Scene No Play clips\"\n"
     ]
    },
    {
     "data": {
      "text/plain": [
       " Krippendorff's alpha\n",
       "\n",
       " Subjects = 15 \n",
       "   Raters = 5 \n",
       "    alpha = 0.126 "
      ]
     },
     "metadata": {},
     "output_type": "display_data"
    },
    {
     "name": "stdout",
     "output_type": "stream",
     "text": [
      "[1] \"Agreement across Movement-Alone No Play clips\"\n"
     ]
    },
    {
     "data": {
      "text/plain": [
       " Krippendorff's alpha\n",
       "\n",
       " Subjects = 15 \n",
       "   Raters = 5 \n",
       "    alpha = 0.202 "
      ]
     },
     "metadata": {},
     "output_type": "display_data"
    }
   ],
   "source": [
    "print(\"Agreement across Full-Scene No Play clips\")\n",
    "kripp.alpha(as.matrix(t(noplayraw %>% select(3:7))),method=c('ordinal'))\n",
    "\n",
    "print(\"Agreement across Movement-Alone No Play clips\")\n",
    "kripp.alpha(as.matrix(t(noplayskel %>% select(3:7))),method=c('ordinal'))"
   ]
  },
  {
   "cell_type": "markdown",
   "metadata": {},
   "source": [
    "# Ratings"
   ]
  },
  {
   "cell_type": "code",
   "execution_count": 8,
   "metadata": {},
   "outputs": [],
   "source": [
    "R1 = cbind(goalall[,1:2], goalall[,3])\n",
    "R2 = cbind(goalall[,1:2], goalall[,4])\n",
    "R3 = cbind(goalall[,1:2], goalall[,5])\n",
    "R4 = cbind(goalall[,1:2], goalall[,6])\n",
    "R5 = cbind(goalall[,1:2], goalall[,7])\n",
    "R6 = cbind(goalall[,1:2], goalall[,8])\n",
    "R7 = cbind(goalall[,1:2], goalall[,9])\n",
    "R8 = cbind(goalall[,1:2], goalall[,10])\n",
    "R9 = cbind(goalall[,1:2], goalall[,11])\n",
    "R10 = cbind(goalall[,1:2], goalall[,12])\n",
    "\n",
    "goal_long = rbind(as.matrix(R1), as.matrix(R2), as.matrix(R3), as.matrix(R4), as.matrix(R5),\n",
    "                 as.matrix(R6), as.matrix(R7), as.matrix(R8), as.matrix(R9), as.matrix(R10))\n",
    "colnames(goal_long)[3] <- \"ratings\"\n",
    "\n",
    "R1 = cbind(aimall[,1:2], aimall[,3])\n",
    "R2 = cbind(aimall[,1:2], aimall[,4])\n",
    "R3 = cbind(aimall[,1:2], aimall[,5])\n",
    "R4 = cbind(aimall[,1:2], aimall[,6])\n",
    "R5 = cbind(aimall[,1:2], aimall[,7])\n",
    "R6 = cbind(aimall[,1:2], aimall[,8])\n",
    "R7 = cbind(aimall[,1:2], aimall[,9])\n",
    "R8 = cbind(aimall[,1:2], aimall[,10])\n",
    "R9 = cbind(aimall[,1:2], aimall[,11])\n",
    "R10 = cbind(aimall[,1:2], aimall[,12])\n",
    "\n",
    "aim_long = rbind(as.matrix(R1), as.matrix(R2), as.matrix(R3), as.matrix(R4), as.matrix(R5),\n",
    "                 as.matrix(R6), as.matrix(R7), as.matrix(R8), as.matrix(R9), as.matrix(R10))\n",
    "colnames(aim_long)[3] <- \"ratings\"\n",
    "\n",
    "R1 = cbind(noplayall[,1:2], noplayall[,3])\n",
    "R2 = cbind(noplayall[,1:2], noplayall[,4])\n",
    "R3 = cbind(noplayall[,1:2], noplayall[,5])\n",
    "R4 = cbind(noplayall[,1:2], noplayall[,6])\n",
    "R5 = cbind(noplayall[,1:2], noplayall[,7])\n",
    "R6 = cbind(noplayall[,1:2], noplayall[,8])\n",
    "R7 = cbind(noplayall[,1:2], noplayall[,9])\n",
    "R8 = cbind(noplayall[,1:2], noplayall[,10])\n",
    "R9 = cbind(noplayall[,1:2], noplayall[,11])\n",
    "R10 = cbind(noplayall[,1:2], noplayall[,12])\n",
    "\n",
    "noplay_long = rbind(as.matrix(R1), as.matrix(R2), as.matrix(R3), as.matrix(R4), as.matrix(R5),\n",
    "                 as.matrix(R6), as.matrix(R7), as.matrix(R8), as.matrix(R9), as.matrix(R10))\n",
    "colnames(noplay_long)[3] <- \"ratings\""
   ]
  },
  {
   "cell_type": "code",
   "execution_count": 9,
   "metadata": {},
   "outputs": [
    {
     "name": "stderr",
     "output_type": "stream",
     "text": [
      "Goal Mean Rating: 4.81111111111111\n",
      "Standard deviation: 1.25326041703585\n",
      "\n",
      "Aimless Mean Rating: 4.16666666666667\n",
      "Standard deviation: 1.51583403081893\n",
      "\n",
      "No Play Mean Rating: 2.43333333333333\n",
      "Standard deviation: 1.54374417162162\n"
     ]
    }
   ],
   "source": [
    "message('Goal Mean Rating: ', mean(goal_long[,3],na.rm = TRUE)) \n",
    "message('Standard deviation: ', sd(goal_long[,3],na.rm = TRUE))\n",
    "message()\n",
    "message('Aimless Mean Rating: ', mean(aim_long[,3],na.rm = TRUE))\n",
    "message('Standard deviation: ', sd(aim_long[,3],na.rm = TRUE)) \n",
    "message()\n",
    "message('No Play Mean Rating: ', mean(noplay_long[,3],na.rm = TRUE))\n",
    "message('Standard deviation: ', sd(noplay_long[,3],na.rm = TRUE))"
   ]
  },
  {
   "cell_type": "code",
   "execution_count": 10,
   "metadata": {},
   "outputs": [],
   "source": [
    "all_long=rbind(goal_long, aim_long, noplay_long)\n",
    "all_long <- as.data.frame(all_long)\n",
    "all_long$condition[all_long$condition==1] <- '1_goal'\n",
    "all_long$condition[all_long$condition==4] <- '1_goal'\n",
    "all_long$condition[all_long$condition==2] <- '2_aimless'\n",
    "all_long$condition[all_long$condition==5] <- '2_aimless'\n",
    "all_long$condition[all_long$condition==3] <- '3_noplay'\n",
    "all_long$condition[all_long$condition==6] <- '3_noplay'\n",
    "\n",
    "colnames(all_long)[2] <- \"cliptype\""
   ]
  },
  {
   "cell_type": "code",
   "execution_count": 11,
   "metadata": {},
   "outputs": [
    {
     "name": "stderr",
     "output_type": "stream",
     "text": [
      "Warning message:\n",
      "\"Removed 180 rows containing non-finite values (stat_boxplot).\"Warning message:\n",
      "\"Removed 180 rows containing non-finite values (stat_boxplot).\""
     ]
    },
    {
     "data": {
      "text/html": [
       "<strong>null device:</strong> 1"
      ],
      "text/latex": [
       "\\textbf{null device:} 1"
      ],
      "text/markdown": [
       "**null device:** 1"
      ],
      "text/plain": [
       "null device \n",
       "          1 "
      ]
     },
     "metadata": {},
     "output_type": "display_data"
    },
    {
     "data": {
      "image/png": "[encoded data removed]",
      "text/plain": [
       "plot without title"
      ]
     },
     "metadata": {},
     "output_type": "display_data"
    }
   ],
   "source": [
    "all_long$cliptype <- as.factor(all_long$cliptype)\n",
    "all_long$video <- as.factor(all_long$video)\n",
    "\n",
    "options(repr.plot.width = 5, repr.plot.height = 3)\n",
    "ggplot(all_long, aes(cliptype, ratings))+geom_boxplot()+ theme_bw()+ theme_light()+\n",
    "  ylab(\"Engangement Rating\") + xlab(\"Clip Type\") + scale_x_discrete(labels=c(\"1_goal\" = \"Goal\", \n",
    "                                                                             \"2_aimless\" = \"Aimless\", \n",
    "                                                                             \"3_noplay\" = \"No Play\"))\n",
    "ggsave('boxplot.pdf', width=5, height= 3) #A4 size in inches\n",
    "dev.off()\n"
   ]
  },
  {
   "cell_type": "code",
   "execution_count": 23,
   "metadata": {},
   "outputs": [
    {
     "name": "stderr",
     "output_type": "stream",
     "text": [
      "Warning message:\n",
      "\"Removed 60 rows containing non-finite values (stat_count).\"Warning message:\n",
      "\"Removed 60 rows containing non-finite values (stat_count).\""
     ]
    },
    {
     "data": {
      "image/png": "[encoded data removed]",
      "text/plain": [
       "plot without title"
      ]
     },
     "metadata": {},
     "output_type": "display_data"
    },
    {
     "name": "stderr",
     "output_type": "stream",
     "text": [
      "Warning message:\n",
      "\"Removed 60 rows containing non-finite values (stat_count).\""
     ]
    },
    {
     "data": {
      "image/png": "[encoded data removed]",
      "text/plain": [
       "plot without title"
      ]
     },
     "metadata": {},
     "output_type": "display_data"
    },
    {
     "data": {
      "image/png": "[encoded data removed]",
      "text/plain": [
       "plot without title"
      ]
     },
     "metadata": {},
     "output_type": "display_data"
    }
   ],
   "source": [
    "goal_plot=subset(all_long,  cliptype=='1_goal')\n",
    "aim_plot=subset(all_long,  cliptype=='2_aimless')\n",
    "no_plot=subset(all_long,  cliptype=='3_noplay')\n",
    "ggplot(goal_plot, aes(ratings)) + geom_bar(stat=\"count\")\n",
    "ggplot(aim_plot, aes(ratings)) + geom_bar(stat=\"count\")\n",
    "ggplot(no_plot, aes(ratings)) + geom_bar(stat=\"count\")"
   ]
  },
  {
   "cell_type": "markdown",
   "metadata": {},
   "source": [
    "## ANOVA - Effect of clip-type on ratings"
   ]
  },
  {
   "cell_type": "code",
   "execution_count": 15,
   "metadata": {},
   "outputs": [
    {
     "data": {
      "text/plain": [
       "             Df Sum Sq Mean Sq F value Pr(>F)    \n",
       "cliptype      2  272.2  136.10   65.31 <2e-16 ***\n",
       "Residuals   267  556.4    2.08                   \n",
       "---\n",
       "Signif. codes:  0 '***' 0.001 '**' 0.01 '*' 0.05 '.' 0.1 ' ' 1\n",
       "180 observations deleted due to missingness"
      ]
     },
     "metadata": {},
     "output_type": "display_data"
    },
    {
     "data": {
      "text/html": [
       "<table>\n",
       "<thead><tr><th scope=col>term</th><th scope=col>partial.etasq</th></tr></thead>\n",
       "<tbody>\n",
       "\t<tr><td>cliptype </td><td>0.3285163</td></tr>\n",
       "</tbody>\n",
       "</table>\n"
      ],
      "text/latex": [
       "\\begin{tabular}{r|ll}\n",
       " term & partial.etasq\\\\\n",
       "\\hline\n",
       "\t cliptype  & 0.3285163\\\\\n",
       "\\end{tabular}\n"
      ],
      "text/markdown": [
       "\n",
       "| term | partial.etasq |\n",
       "|---|---|\n",
       "| cliptype  | 0.3285163 |\n",
       "\n"
      ],
      "text/plain": [
       "  term     partial.etasq\n",
       "1 cliptype 0.3285163    "
      ]
     },
     "metadata": {},
     "output_type": "display_data"
    }
   ],
   "source": [
    "res.aov <- aov(ratings ~ cliptype, data = all_long)\n",
    "summary(res.aov)\n",
    "eta_sq(res.aov, partial = TRUE)"
   ]
  },
  {
   "cell_type": "code",
   "execution_count": 16,
   "metadata": {},
   "outputs": [
    {
     "data": {
      "text/plain": [
       "  Tukey multiple comparisons of means\n",
       "    95% family-wise confidence level\n",
       "\n",
       "Fit: aov(formula = ratings ~ cliptype, data = all_long)\n",
       "\n",
       "$cliptype\n",
       "                         diff       lwr        upr     p adj\n",
       "2_aimless-1_goal   -0.6444444 -1.151623 -0.1372657 0.0084191\n",
       "3_noplay-1_goal    -2.3777778 -2.884957 -1.8705990 0.0000000\n",
       "3_noplay-2_aimless -1.7333333 -2.240512 -1.2261546 0.0000000\n"
      ]
     },
     "metadata": {},
     "output_type": "display_data"
    }
   ],
   "source": [
    "TukeyHSD(res.aov, which = \"cliptype\")"
   ]
  },
  {
   "cell_type": "code",
   "execution_count": null,
   "metadata": {},
   "outputs": [],
   "source": []
  }
 ],
 "metadata": {
  "kernelspec": {
   "display_name": "R",
   "language": "R",
   "name": "ir"
  },
  "language_info": {
   "codemirror_mode": "r",
   "file_extension": ".r",
   "mimetype": "text/x-r-source",
   "name": "R",
   "pygments_lexer": "r",
   "version": "3.6.1"
  }
 },
 "nbformat": 4,
 "nbformat_minor": 2
}
