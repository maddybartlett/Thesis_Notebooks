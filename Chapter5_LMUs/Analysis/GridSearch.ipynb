{
 "cells": [
  {
   "cell_type": "code",
   "execution_count": 13,
   "metadata": {},
   "outputs": [],
   "source": [
    "%matplotlib inline\n",
    "\n",
    "import matplotlib.pyplot as plt\n",
    "import matplotlib.gridspec as gridspec\n",
    "import seaborn as sns\n",
    "import numpy as np\n",
    "import pytry\n",
    "import pickle\n",
    "import glob\n",
    "import pandas as pd\n",
    "import os\n",
    "\n",
    "from scipy import stats\n",
    "import researchpy as rp\n",
    "\n",
    "import statsmodels.api as sm\n",
    "from statsmodels.formula.api import ols\n",
    "import statsmodels.stats.multicomp"
   ]
  },
  {
   "cell_type": "markdown",
   "metadata": {},
   "source": [
    "# LMU GridSearch\n",
    "Testing values of q and theta using the MLP classifier"
   ]
  },
  {
   "cell_type": "markdown",
   "metadata": {},
   "source": [
    "Gather data from LMU gridsearch looking at the effect of different values for q and theta on accuracy of the MLP classifier (MLP with 200 neurons in hidden layer)."
   ]
  },
  {
   "cell_type": "code",
   "execution_count": 14,
   "metadata": {},
   "outputs": [],
   "source": [
    "data_dir = 'E:\\\\PhD\\Studies\\\\NEN002_LMUs\\\\Data\\\\Gridsearches\\\\GridSearch_MLP_LMU'\n",
    "test_param1 = 'q'\n",
    "test_param2 = 'Theta'\n",
    "test_param3 = 'Neurons'"
   ]
  },
  {
   "cell_type": "code",
   "execution_count": 15,
   "metadata": {},
   "outputs": [],
   "source": [
    "lst=[]\n",
    "for fname in os.listdir(data_dir):\n",
    "    lst.append(fname)"
   ]
  },
  {
   "cell_type": "code",
   "execution_count": 16,
   "metadata": {},
   "outputs": [],
   "source": [
    "q=[]\n",
    "theta=[]\n",
    "neurons=[]\n",
    "\n",
    "for i in range(len(lst)):\n",
    "    q.append(lst[i].split('_')[0])\n",
    "    theta.append(lst[i].split('_')[1])\n",
    "    neurons.append(lst[i].split('_')[2])"
   ]
  },
  {
   "cell_type": "code",
   "execution_count": 17,
   "metadata": {},
   "outputs": [],
   "source": [
    "run=[]\n",
    "test_target=[]\n",
    "test_out=[]\n",
    "accuracy=[]\n",
    "\n",
    "for folder in os.listdir(data_dir):\n",
    "    for fname in os.listdir(data_dir+'\\\\'+folder):\n",
    "        dat = data_dir+'\\\\'+folder+'\\\\'+fname\n",
    "        if 'test_target' in fname:\n",
    "            a = np.load(dat, allow_pickle=True) \n",
    "            test_target.append(a)\n",
    "            run.append(fname.split('_')[0])\n",
    "        elif 'test_out' in fname:\n",
    "            a = np.load(dat, allow_pickle=True) \n",
    "            test_out.append(a)\n",
    "        elif 'accuracy' in fname:\n",
    "            a = np.load(dat, allow_pickle=True) \n",
    "            accuracy.append(a)"
   ]
  },
  {
   "cell_type": "code",
   "execution_count": 18,
   "metadata": {},
   "outputs": [],
   "source": [
    "x = pd.DataFrame(columns=['run','test_target','test_out', 'Accuracy'])\n",
    "for i in range(len(run)):\n",
    "    x.loc[i]=[run[i], test_target[i], test_out[i], accuracy[i]]"
   ]
  },
  {
   "cell_type": "code",
   "execution_count": 19,
   "metadata": {},
   "outputs": [],
   "source": [
    "q1=pd.Series(q)\n",
    "q1=q1.repeat(20)\n",
    "q1=pd.DataFrame(q1)\n",
    "q1.columns=[test_param1]\n",
    "q1=q1.reset_index()\n",
    "\n",
    "theta1=pd.Series(theta)\n",
    "theta1=theta1.repeat(20)\n",
    "theta1=pd.DataFrame(theta1)\n",
    "theta1.columns=[test_param2]\n",
    "theta1=theta1.reset_index()\n",
    "\n",
    "neurons1=pd.Series(neurons)\n",
    "neurons1=neurons1.repeat(20)\n",
    "neurons1=pd.DataFrame(neurons1)\n",
    "neurons1.columns=[test_param3]\n",
    "neurons1=neurons1.reset_index()"
   ]
  },
  {
   "cell_type": "code",
   "execution_count": 20,
   "metadata": {},
   "outputs": [],
   "source": [
    "grid_mlp_lmu=x.join(q1)\n",
    "grid_mlp_lmu=grid_mlp_lmu.join(theta1['Theta'])\n",
    "grid_mlp_lmu=grid_mlp_lmu.join(neurons1['Neurons'])\n",
    "\n",
    "order=['50','100','150','200']\n",
    "grid_mlp_lmu=grid_mlp_lmu.set_index('Neurons').loc[order]\n",
    "grid_mlp_lmu.reset_index(inplace=True)"
   ]
  },
  {
   "cell_type": "markdown",
   "metadata": {},
   "source": [
    "# Interaction Plot\n",
    "Plot the accuracy against values of q and theta."
   ]
  },
  {
   "cell_type": "code",
   "execution_count": 21,
   "metadata": {},
   "outputs": [
    {
     "data": {
      "image/png": "[encoded data removed]",
      "text/plain": [
       "<Figure size 582.375x360 with 1 Axes>"
      ]
     },
     "metadata": {
      "needs_background": "light"
     },
     "output_type": "display_data"
    }
   ],
   "source": [
    "n200=grid_mlp_lmu['Neurons']=='200'\n",
    "my_pal = {\"2\": \"lightgrey\", \"3\": \"darkgrey\", \"4\": \"grey\"}\n",
    "\n",
    "sns.catplot(y='Accuracy', x='Theta', hue='q', \n",
    "            data=grid_mlp_lmu[n200], \n",
    "            width=0.5, \n",
    "            order=['1','3','5','7'],\n",
    "            kind='box', height=5, aspect=1.5,\n",
    "           palette=my_pal)\n",
    "plt.suptitle(\"LMU Grid Search\", fontsize=16)\n",
    "plt.xlabel(\"Theta\", fontsize=14)\n",
    "plt.ylabel(\"Accuracy\", fontsize=14)\n",
    "plt.savefig('../Figs/mlplmugrid.png')\n",
    "plt.show()"
   ]
  },
  {
   "cell_type": "markdown",
   "metadata": {},
   "source": [
    "Best: <br>\n",
    "    q = 4 <br>\n",
    "    Theta = 3 <br>"
   ]
  },
  {
   "cell_type": "markdown",
   "metadata": {},
   "source": [
    "# MLP Neurons GridSearch\n",
    "Testing number of neurons"
   ]
  },
  {
   "cell_type": "markdown",
   "metadata": {},
   "source": [
    "Gather data from the MLP gridsearch looking at the effect of different numbers of neurons in the hidden layer on classification accuracy"
   ]
  },
  {
   "cell_type": "code",
   "execution_count": 22,
   "metadata": {},
   "outputs": [],
   "source": [
    "data_dir = 'E:\\\\PhD\\\\Studies\\\\NEN002_LMUs\\\\Data\\\\Gridsearches\\\\GridSearch_MLP_Raw'\n",
    "test_param1 = 'Neurons'"
   ]
  },
  {
   "cell_type": "code",
   "execution_count": 23,
   "metadata": {},
   "outputs": [],
   "source": [
    "neurons=[]\n",
    "for fname in os.listdir(data_dir):\n",
    "    neurons.append(fname)"
   ]
  },
  {
   "cell_type": "code",
   "execution_count": 24,
   "metadata": {},
   "outputs": [],
   "source": [
    "run=[]\n",
    "test_target=[]\n",
    "test_out=[]\n",
    "accuracy=[]\n",
    "\n",
    "for folder in os.listdir(data_dir):\n",
    "    for fname in os.listdir(data_dir+'//'+folder):\n",
    "        dat = data_dir+'//'+folder+'//'+fname\n",
    "        if 'test_target' in fname:\n",
    "            a = np.load(dat, allow_pickle=True) \n",
    "            test_target.append(a)\n",
    "            run.append(fname.split('_')[0])\n",
    "        elif 'test_out' in fname:\n",
    "            a = np.load(dat, allow_pickle=True) \n",
    "            test_out.append(a)\n",
    "        elif 'accuracy' in fname:\n",
    "            a = np.load(dat, allow_pickle=True) \n",
    "            accuracy.append(a)"
   ]
  },
  {
   "cell_type": "code",
   "execution_count": 25,
   "metadata": {},
   "outputs": [],
   "source": [
    "x = pd.DataFrame(columns=['run','test_target','test_out', 'Accuracy'])\n",
    "for i in range(len(run)):\n",
    "    x.loc[i]=[run[i], test_target[i], test_out[i], accuracy[i]]"
   ]
  },
  {
   "cell_type": "code",
   "execution_count": 26,
   "metadata": {},
   "outputs": [],
   "source": [
    "neurons1=pd.Series(neurons)\n",
    "neurons1=neurons1.repeat(20)\n",
    "neurons1=pd.DataFrame(neurons1)\n",
    "neurons1.columns=[test_param1]\n",
    "neurons1=neurons1.reset_index()"
   ]
  },
  {
   "cell_type": "code",
   "execution_count": 27,
   "metadata": {},
   "outputs": [],
   "source": [
    "grid_mlp_raw=x.join(neurons1['Neurons'])\n",
    "order=['50','100','150','200']\n",
    "grid_mlp_raw=grid_mlp_raw.set_index('Neurons').loc[order]\n",
    "grid_mlp_raw.reset_index(inplace=True)"
   ]
  },
  {
   "cell_type": "markdown",
   "metadata": {},
   "source": [
    "# Interaction Plot\n",
    "Plot the accuracy against number of neurons."
   ]
  },
  {
   "cell_type": "code",
   "execution_count": 28,
   "metadata": {},
   "outputs": [
    {
     "data": {
      "image/png": "[encoded data removed]",
      "text/plain": [
       "<Figure size 432x288 with 1 Axes>"
      ]
     },
     "metadata": {
      "needs_background": "light"
     },
     "output_type": "display_data"
    }
   ],
   "source": [
    "my_pal = {\"50\": \"grey\", \"100\": \"grey\", \"150\": \"grey\", \"200\":\"grey\"}\n",
    "sns.boxplot(y='Accuracy', x='Neurons', \n",
    "                 data=grid_mlp_raw, \n",
    "                 width=0.5, \n",
    "                 palette=my_pal,\n",
    "                 order=[\"50\", \"100\", \"150\", \"200\"])\n",
    "plt.suptitle(\"MLP Neurons Grid Search\", fontsize=14)\n",
    "plt.xlabel(\"Neurons\", fontsize=12)\n",
    "plt.ylabel(\"Accuracy\", fontsize=12)\n",
    "plt.savefig('../Figs/mlprawgrid.png')\n",
    "plt.show()"
   ]
  },
  {
   "cell_type": "markdown",
   "metadata": {},
   "source": [
    "# Nengo DL GridSearch\n",
    "Testing learning rate"
   ]
  },
  {
   "cell_type": "markdown",
   "metadata": {},
   "source": [
    "## Data without LMU preprocessing"
   ]
  },
  {
   "cell_type": "markdown",
   "metadata": {},
   "source": [
    "Gather data from NDL gridsearch looking at the effect of learning rate on accuracy when using the raw data as input."
   ]
  },
  {
   "cell_type": "code",
   "execution_count": 29,
   "metadata": {},
   "outputs": [],
   "source": [
    "data_dir = 'E:\\\\PhD\\\\Studies\\\\NEN002_LMUs\\\\Data\\\\Gridsearches\\\\GridSearch_NDL_Raw'\n",
    "test_param1 = 'Learning_Rate'"
   ]
  },
  {
   "cell_type": "code",
   "execution_count": 30,
   "metadata": {},
   "outputs": [],
   "source": [
    "lr=[]\n",
    "for fname in os.listdir(data_dir):\n",
    "    lr.append(fname)"
   ]
  },
  {
   "cell_type": "code",
   "execution_count": 31,
   "metadata": {},
   "outputs": [],
   "source": [
    "run=[]\n",
    "test_target=[]\n",
    "test_out=[]\n",
    "\n",
    "for folder in os.listdir(data_dir):\n",
    "    for fname in os.listdir(data_dir+'//'+folder):\n",
    "        dat = data_dir+'//'+folder+'//'+fname\n",
    "        if 'test_target' in fname:\n",
    "            a = np.load(dat, allow_pickle=True) \n",
    "            test_target.append(a)\n",
    "            run.append(fname.split('_')[0])\n",
    "        elif 'test_out' in fname:\n",
    "            a = np.load(dat, allow_pickle=True) \n",
    "            test_out.append(a)"
   ]
  },
  {
   "cell_type": "code",
   "execution_count": 32,
   "metadata": {},
   "outputs": [],
   "source": [
    "x = pd.DataFrame(columns=['run','test_target','test_out'])\n",
    "for i in range(len(run)):\n",
    "    x.loc[i]=[run[i], test_target[i], test_out[i]]"
   ]
  },
  {
   "cell_type": "code",
   "execution_count": 33,
   "metadata": {},
   "outputs": [],
   "source": [
    "lr1=pd.Series(lr)\n",
    "lr1=lr1.repeat(20)\n",
    "lr1=pd.DataFrame(lr1)\n",
    "lr1.columns=[test_param1]\n",
    "lr1=lr1.reset_index()"
   ]
  },
  {
   "cell_type": "code",
   "execution_count": 34,
   "metadata": {},
   "outputs": [],
   "source": [
    "grid_ndl_raw=x.join(lr1['Learning_Rate'])\n",
    "order=['0.1', '0.001', '1e-05']\n",
    "grid_ndl_raw=grid_ndl_raw.set_index('Learning_Rate').loc[order]\n",
    "grid_ndl_raw.reset_index(inplace=True)"
   ]
  },
  {
   "cell_type": "code",
   "execution_count": 35,
   "metadata": {},
   "outputs": [],
   "source": [
    "for i in range(len(grid_ndl_raw)):\n",
    "    for j in range(len(grid_ndl_raw['test_out'][i])):\n",
    "        for k in range(len(grid_ndl_raw['test_out'][i][j])):\n",
    "            if np.argmin(grid_ndl_raw['test_out'][i][j][k])==1:\n",
    "                grid_ndl_raw['test_out'][i][j][k]=[1,0]\n",
    "            else:\n",
    "                grid_ndl_raw['test_out'][i][j][k]=[0,1]"
   ]
  },
  {
   "cell_type": "code",
   "execution_count": 36,
   "metadata": {},
   "outputs": [],
   "source": [
    "accuracy=[]\n",
    "for i in range(len(grid_ndl_raw)):\n",
    "    a=np.sum(np.vstack(grid_ndl_raw['test_target'][i])==np.vstack(grid_ndl_raw['test_out'][i]))/2\n",
    "    b=len(np.vstack(grid_ndl_raw['test_target'][i]))\n",
    "    accuracy.append(a/b)"
   ]
  },
  {
   "cell_type": "code",
   "execution_count": 37,
   "metadata": {},
   "outputs": [],
   "source": [
    "accuracy=pd.DataFrame(accuracy)\n",
    "accuracy.columns=['Accuracy']\n",
    "grid_ndl_raw=grid_ndl_raw.join(accuracy['Accuracy'])"
   ]
  },
  {
   "cell_type": "markdown",
   "metadata": {},
   "source": [
    "## Data with LMU preprocessing"
   ]
  },
  {
   "cell_type": "markdown",
   "metadata": {},
   "source": [
    "Gather data from NDL gridsearch looking at the effect of learning rate on accuracy when using the LMU preprocessed data as input."
   ]
  },
  {
   "cell_type": "code",
   "execution_count": 40,
   "metadata": {},
   "outputs": [],
   "source": [
    "data_dir = 'E:\\\\PhD\\\\Studies\\\\NEN002_LMUs\\\\Data\\\\Gridsearches\\\\GridSearch_NDL_LMU'\n",
    "test_param1 = 'Learning_Rate'"
   ]
  },
  {
   "cell_type": "code",
   "execution_count": 41,
   "metadata": {},
   "outputs": [],
   "source": [
    "lr=[]\n",
    "for fname in os.listdir(data_dir):\n",
    "    lr.append(fname)"
   ]
  },
  {
   "cell_type": "code",
   "execution_count": 42,
   "metadata": {},
   "outputs": [],
   "source": [
    "run=[]\n",
    "test_target=[]\n",
    "test_out=[]\n",
    "\n",
    "for folder in os.listdir(data_dir):\n",
    "    for fname in os.listdir(data_dir+'//'+folder):\n",
    "        dat = data_dir+'//'+folder+'//'+fname\n",
    "        if 'test_target' in fname:\n",
    "            a = np.load(dat, allow_pickle=True) \n",
    "            test_target.append(a)\n",
    "            run.append(fname.split('_')[0])\n",
    "        elif 'test_out' in fname:\n",
    "            a = np.load(dat, allow_pickle=True) \n",
    "            test_out.append(a)"
   ]
  },
  {
   "cell_type": "code",
   "execution_count": 43,
   "metadata": {},
   "outputs": [],
   "source": [
    "x = pd.DataFrame(columns=['run','test_target','test_out'])\n",
    "for i in range(len(run)):\n",
    "    x.loc[i]=[run[i], test_target[i], test_out[i]]"
   ]
  },
  {
   "cell_type": "code",
   "execution_count": 44,
   "metadata": {},
   "outputs": [],
   "source": [
    "x = pd.DataFrame(columns=['run','test_target','test_out'])\n",
    "for i in range(len(run)):\n",
    "    x.loc[i]=[run[i], test_target[i], test_out[i]]"
   ]
  },
  {
   "cell_type": "code",
   "execution_count": 45,
   "metadata": {},
   "outputs": [],
   "source": [
    "lr1=pd.Series(lr)\n",
    "lr1=lr1.repeat(20)\n",
    "lr1=pd.DataFrame(lr1)\n",
    "lr1.columns=['Learning_Rate']\n",
    "lr1=lr1.reset_index()"
   ]
  },
  {
   "cell_type": "code",
   "execution_count": 46,
   "metadata": {},
   "outputs": [],
   "source": [
    "grid_ndl_lmu=x.join(lr1['Learning_Rate'])\n",
    "order=['0.1', '0.001', '1e-05']\n",
    "grid_ndl_lmu=grid_ndl_lmu.set_index('Learning_Rate').loc[order]\n",
    "grid_ndl_lmu.reset_index(inplace=True)"
   ]
  },
  {
   "cell_type": "code",
   "execution_count": 47,
   "metadata": {},
   "outputs": [],
   "source": [
    "for i in range(len(grid_ndl_lmu)):\n",
    "    for j in range(len(grid_ndl_lmu['test_out'][i])):\n",
    "        for k in range(len(grid_ndl_lmu['test_out'][i][j])):\n",
    "            if np.argmin(grid_ndl_lmu['test_out'][i][j][k])==1:\n",
    "                grid_ndl_lmu['test_out'][i][j][k]=[1,0]\n",
    "            else:\n",
    "                grid_ndl_lmu['test_out'][i][j][k]=[0,1]"
   ]
  },
  {
   "cell_type": "code",
   "execution_count": 48,
   "metadata": {},
   "outputs": [],
   "source": [
    "accuracy=[]\n",
    "for i in range(len(grid_ndl_lmu)):\n",
    "    a=np.sum(np.vstack(grid_ndl_lmu['test_target'][i])==np.vstack(grid_ndl_lmu['test_out'][i]))/2\n",
    "    b=len(np.vstack(grid_ndl_lmu['test_target'][i]))\n",
    "    accuracy.append(a/b)"
   ]
  },
  {
   "cell_type": "code",
   "execution_count": 49,
   "metadata": {},
   "outputs": [],
   "source": [
    "accuracy=pd.DataFrame(accuracy)\n",
    "accuracy.columns=['Accuracy']\n",
    "grid_ndl_lmu=grid_ndl_lmu.join(accuracy['Accuracy'])"
   ]
  },
  {
   "cell_type": "markdown",
   "metadata": {},
   "source": [
    "# Interaction Plots"
   ]
  },
  {
   "cell_type": "code",
   "execution_count": 50,
   "metadata": {
    "scrolled": true
   },
   "outputs": [
    {
     "data": {
      "image/png": "[encoded data removed]",
      "text/plain": [
       "<Figure size 720x360 with 2 Axes>"
      ]
     },
     "metadata": {
      "needs_background": "light"
     },
     "output_type": "display_data"
    }
   ],
   "source": [
    "my_pal = {\"0.1\": \"lightgrey\", \"0.001\": \"darkgrey\", \"1e-05\": \"grey\"}\n",
    "fig, (ax1, ax2) = plt.subplots(ncols=2, sharey=True, figsize=(10, 5))\n",
    "\n",
    "sns.boxplot(y='Accuracy', x='Learning_Rate', \n",
    "                 data=grid_ndl_raw, \n",
    "                 width=0.5, \n",
    "                 palette=my_pal,\n",
    "                 order=['0.1', '0.001', '1e-05'], ax=ax1)\n",
    "ax1.set_title(\"NDL without LMUs\", fontsize=14)\n",
    "ax1.set_xlabel(\"Learning Rate\", fontsize=12)\n",
    "ax1.set_ylabel(\"Accuracy\", fontsize=12)\n",
    "\n",
    "sns.boxplot(y='Accuracy', x='Learning_Rate', \n",
    "                 data=grid_ndl_lmu, \n",
    "                 width=0.5, \n",
    "                 palette=my_pal,\n",
    "                 order=['0.1', '0.001', '1e-05'], ax=ax2)\n",
    "ax2.set_title(\"NDL with LMUs\", fontsize=14)\n",
    "ax2.set_xlabel(\"Learning Rate\", fontsize=12)\n",
    "ax2.set_ylabel(\"Accuracy\", fontsize=12)\n",
    "\n",
    "plt.close(2)\n",
    "plt.close(3)\n",
    "plt.tight_layout()\n",
    "fig.savefig('../Figs/ndlgrid.png')"
   ]
  },
  {
   "cell_type": "code",
   "execution_count": null,
   "metadata": {},
   "outputs": [],
   "source": []
  }
 ],
 "metadata": {
  "kernelspec": {
   "display_name": "Python 3",
   "language": "python",
   "name": "python3"
  },
  "language_info": {
   "codemirror_mode": {
    "name": "ipython",
    "version": 3
   },
   "file_extension": ".py",
   "mimetype": "text/x-python",
   "name": "python",
   "nbconvert_exporter": "python",
   "pygments_lexer": "ipython3",
   "version": "3.8.3"
  }
 },
 "nbformat": 4,
 "nbformat_minor": 2
}
