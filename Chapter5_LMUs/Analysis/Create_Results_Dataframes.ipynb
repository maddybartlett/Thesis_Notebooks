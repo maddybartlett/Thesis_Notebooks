{
 "cells": [
  {
   "cell_type": "code",
   "execution_count": 1,
   "metadata": {},
   "outputs": [],
   "source": [
    "import pandas as pd\n",
    "import pickle\n",
    "import os\n",
    "import glob\n",
    "import numpy as np"
   ]
  },
  {
   "cell_type": "markdown",
   "metadata": {},
   "source": [
    "Get data directories."
   ]
  },
  {
   "cell_type": "code",
   "execution_count": 4,
   "metadata": {},
   "outputs": [],
   "source": [
    "data_dir_LRraw = 'F:\\\\PhD\\\\Studies\\\\NEN002\\\\Data\\\\Output\\\\LR_Raw' #Logistic Regression using raw data\n",
    "data_dir_LRlmu = 'F:\\\\PhD\\\\Studies\\\\NEN002\\\\Data\\\\Output\\\\LR_LMU' #Logistic Regression using lmu data\n",
    "\n",
    "data_dir_MLPraw = 'F:\\\\PhD\\\\Studies\\\\NEN002\\\\Data\\\\Output\\\\MLP_Raw' #MLP using raw data\n",
    "data_dir_MLPlmu = 'F:\\\\PhD\\\\Studies\\\\NEN002\\\\Data\\\\Output\\\\MLP_LMU' #MLP using lmu data\n",
    "\n",
    "data_dir_RNNraw = 'F:\\\\PhD\\\\Studies\\\\NEN002\\\\Data\\\\Output\\\\NengoDL_Raw' #DLNN using raw data\n",
    "data_dir_RNNlmu = 'F:\\\\PhD\\\\Studies\\\\NEN002\\\\Data\\\\Output\\\\NengoDL_LMU' #DLNN using lmu data"
   ]
  },
  {
   "cell_type": "markdown",
   "metadata": {},
   "source": [
    "Create Dataframe for each dataset"
   ]
  },
  {
   "cell_type": "markdown",
   "metadata": {},
   "source": [
    "**Recurrent Neural Network Without LMUs**"
   ]
  },
  {
   "cell_type": "code",
   "execution_count": 5,
   "metadata": {},
   "outputs": [],
   "source": [
    "rnnraw_trainout=[]\n",
    "rnnraw_testout=[]\n",
    "rnnraw_run=[]\n",
    "trainlen=[]\n",
    "\n",
    "for fname in os.listdir(data_dir_RNNraw):\n",
    "    dat = data_dir_RNNraw+'\\\\'+fname\n",
    "    if 'train_out' in fname:\n",
    "        a = np.load(dat, allow_pickle=True) \n",
    "        rnnraw_trainout.append(a)\n",
    "        rnnraw_run.append(fname.split('_')[0])\n",
    "    elif 'test_out' in fname:\n",
    "        a = np.load(dat, allow_pickle=True)\n",
    "        rnnraw_testout.append(a)\n",
    "    elif 'training_data' in fname:\n",
    "        a = np.load(dat, allow_pickle=True) \n",
    "        trainlen.append(len(a))\n",
    "        \n",
    "#Create dataframe from lists\n",
    "rnnraw = pd.DataFrame(columns=['run', 'train_out_high', 'train_out_low', 'test_out_high', 'test_out_low'])\n",
    "for i in range(len(rnnraw_run)):\n",
    "    rnnraw.loc[i]=[rnnraw_run[i], rnnraw_trainout[i][:18], rnnraw_trainout[i][18:], \n",
    "                   rnnraw_testout[i][:18], rnnraw_testout[i][18:]]\n",
    "\n",
    "rnnraw.to_pickle(\"../Data/Output/rnnraw.pkl\")"
   ]
  },
  {
   "cell_type": "markdown",
   "metadata": {},
   "source": [
    "**Recurrent Neural Network With LMUs**"
   ]
  },
  {
   "cell_type": "code",
   "execution_count": 6,
   "metadata": {},
   "outputs": [],
   "source": [
    "rnnlmu_trainout=[]\n",
    "rnnlmu_testout=[]\n",
    "rnnlmu_run=[]\n",
    "trainlen=[]\n",
    "\n",
    "for fname in os.listdir(data_dir_RNNlmu):\n",
    "    dat = data_dir_RNNlmu+'\\\\'+fname\n",
    "    if 'train_out' in fname:\n",
    "        a = np.load(dat, allow_pickle=True) \n",
    "        rnnlmu_trainout.append(a)\n",
    "        rnnlmu_run.append(fname.split('_')[0])\n",
    "    elif 'test_out' in fname:\n",
    "        a = np.load(dat, allow_pickle=True)\n",
    "        rnnlmu_testout.append(a)\n",
    "    elif 'training_data' in fname:\n",
    "        a = np.load(dat, allow_pickle=True) \n",
    "        trainlen.append(len(a))\n",
    "        \n",
    "#Create dataframe from lists\n",
    "rnnlmu = pd.DataFrame(columns=['run', 'train_out_high', 'train_out_low', 'test_out_high', 'test_out_low'])\n",
    "for i in range(len(rnnlmu_run)):\n",
    "    rnnlmu.loc[i]=[rnnlmu_run[i], rnnlmu_trainout[i][:18], rnnlmu_trainout[i][18:], \n",
    "                   rnnlmu_testout[i][:18], rnnlmu_testout[i][18:]]\n",
    "\n",
    "rnnlmu.to_pickle(\"../Data/Output/rnnlmu.pkl\")"
   ]
  },
  {
   "cell_type": "markdown",
   "metadata": {},
   "source": [
    "**Logistic Regression Without LMUs**"
   ]
  },
  {
   "cell_type": "code",
   "execution_count": 7,
   "metadata": {},
   "outputs": [],
   "source": [
    "lrraw_run=[] # run-number (0-19) \n",
    "lrraw_prob=[] # 2-d array with probability of -1 classification and probability of +1 classification\n",
    "#Collect data from each run into lists\n",
    "for fname in os.listdir(data_dir_LRraw):\n",
    "    dat = data_dir_LRraw+'\\\\'+fname\n",
    "    if 'prob' in fname:\n",
    "        a = np.load(dat, allow_pickle=True) \n",
    "        lrraw_prob.append(a)\n",
    "        lrraw_run.append(fname.split('_')[0])\n",
    "    elif 'train' in fname:\n",
    "        a = np.load(dat, allow_pickle=True) \n",
    "        trainlen.append(len(a))\n",
    "    else:\n",
    "        continue\n",
    "        \n",
    "#Create dataframe from lists\n",
    "lrraw = pd.DataFrame(columns=['run', 'prediction_prob_high', 'prediction_prob_mid', \n",
    "                                   'prediction_prob_low', 'prediction_prob_random'])\n",
    "for i in range(len(lrraw_run)):\n",
    "    lrraw.loc[i]=[lrraw_run[i], lrraw_prob[i][:18], lrraw_prob[i][18:70], \n",
    "                  lrraw_prob[i][70:88], lrraw_prob[i][88:]]\n",
    "    \n",
    "lrraw.to_pickle(\"../Data/Output/lrraw.pkl\")"
   ]
  },
  {
   "cell_type": "markdown",
   "metadata": {},
   "source": [
    "**Logistic Regression With LMUs**"
   ]
  },
  {
   "cell_type": "code",
   "execution_count": 8,
   "metadata": {},
   "outputs": [],
   "source": [
    "lrlmu_run=[] # run-number (0-19) \n",
    "lrlmu_prob=[] # 2-d array with probability of -1 classification and probability of +1 classification\n",
    "\n",
    "#Collect data from each run into lists\n",
    "for fname in os.listdir(data_dir_LRlmu):\n",
    "    dat = data_dir_LRlmu+'\\\\'+fname\n",
    "    if 'prob' in fname:\n",
    "        a = np.load(dat, allow_pickle=True) \n",
    "        lrlmu_prob.append(a)\n",
    "        lrlmu_run.append(fname.split('_')[0])\n",
    "    elif 'train' in fname:\n",
    "        a = np.load(dat, allow_pickle=True) \n",
    "        trainlen.append(len(a))\n",
    "    else:\n",
    "        continue\n",
    "        \n",
    "#Create dataframe from lists\n",
    "lrlmu = pd.DataFrame(columns=['run', 'prediction_prob_high', 'prediction_prob_mid', \n",
    "                              'prediction_prob_low', 'prediction_prob_random'])\n",
    "for i in range(len(lrlmu_run)):\n",
    "    lrlmu.loc[i]=[lrlmu_run[i], lrlmu_prob[i][:18], lrlmu_prob[i][18:70], \n",
    "                  lrlmu_prob[i][70:88], lrlmu_prob[i][88:]]\n",
    "    \n",
    "lrlmu.to_pickle(\"../Data/Output/lrlmu.pkl\")"
   ]
  },
  {
   "cell_type": "markdown",
   "metadata": {},
   "source": [
    "**Multi-Layer Perceptron Without LMUs**"
   ]
  },
  {
   "cell_type": "code",
   "execution_count": 9,
   "metadata": {},
   "outputs": [],
   "source": [
    "mlpraw_run=[] # run-number (0-19) \n",
    "mlpraw_prob=[] # 2-d array with probability of -1 classification and probability of +1 classification\n",
    "mlpraw_decision=[] # 2-d array of activation of the final hidden layer\n",
    "\n",
    "#Collect data from each run into lists\n",
    "for fname in os.listdir(data_dir_MLPraw):\n",
    "    dat = data_dir_MLPraw+'\\\\'+fname\n",
    "    if 'prob' in fname:\n",
    "        a = np.load(dat, allow_pickle=True) \n",
    "        mlpraw_prob.append(a)\n",
    "        mlpraw_run.append(fname.split('_')[0])\n",
    "    elif 'decision' in fname:\n",
    "        a = np.load(dat, allow_pickle=True) \n",
    "        mlpraw_decision.append(a)\n",
    "    elif 'train' in fname:\n",
    "        a = np.load(dat, allow_pickle=True) \n",
    "        trainlen.append(len(a))\n",
    "    else:\n",
    "        continue\n",
    "        \n",
    "#Create dataframe from lists\n",
    "mlpraw = pd.DataFrame(columns=['run', 'prediction_prob_high', 'prediction_prob_mid', \n",
    "                               'prediction_prob_low', 'prediction_prob_random', 'decision_high',\n",
    "                               'decision_mid', 'decision_low', 'decision_random'])\n",
    "for i in range(len(mlpraw_run)):\n",
    "    mlpraw.loc[i]=[mlpraw_run[i], mlpraw_prob[i][:18], mlpraw_prob[i][18:70], \n",
    "                   mlpraw_prob[i][70:88], mlpraw_prob[i][88:], mlpraw_decision[i][:18],\n",
    "                   mlpraw_decision[i][18:70], mlpraw_decision[i][70:88], mlpraw_decision[i][88:]]\n",
    "    \n",
    "mlpraw.to_pickle(\"../Data/Output/mlpraw.pkl\")"
   ]
  },
  {
   "cell_type": "markdown",
   "metadata": {},
   "source": [
    "**Multi-Layer Perceptron With LMUs**"
   ]
  },
  {
   "cell_type": "code",
   "execution_count": 8,
   "metadata": {},
   "outputs": [],
   "source": [
    "mlplmu_run=[] # run-number (0-19) \n",
    "mlplmu_prob=[] # 2-d array with probability of -1 classification and probability of +1 classification\n",
    "mlplmu_decision=[] # 2-d array of activation of the final hidden layer\n",
    "\n",
    "#Collect data from each run into lists\n",
    "for fname in os.listdir(data_dir_MLPlmu):\n",
    "    dat = data_dir_MLPlmu+'\\\\'+fname\n",
    "    if 'prob' in fname:\n",
    "        a = np.load(dat, allow_pickle=True) \n",
    "        mlplmu_prob.append(a)\n",
    "        mlplmu_run.append(fname.split('_')[0])\n",
    "    elif 'decision' in fname:\n",
    "        a = np.load(dat, allow_pickle=True) \n",
    "        mlplmu_decision.append(a)\n",
    "    elif 'train' in fname:\n",
    "        a = np.load(dat, allow_pickle=True) \n",
    "        trainlen.append(len(a))\n",
    "    else:\n",
    "        continue\n",
    "        \n",
    "#Create dataframe from lists\n",
    "mlplmu = pd.DataFrame(columns=['run', 'prediction_prob_high', 'prediction_prob_mid', \n",
    "                               'prediction_prob_low', 'prediction_prob_random', 'decision_high',\n",
    "                               'decision_mid', 'decision_low', 'decision_random'])\n",
    "for i in range(len(mlplmu_run)):\n",
    "    mlplmu.loc[i]=[mlplmu_run[i], mlplmu_prob[i][:18], mlplmu_prob[i][18:70], \n",
    "                   mlplmu_prob[i][70:88], mlplmu_prob[i][88:], mlplmu_decision[i][:18],\n",
    "                   mlplmu_decision[i][18:70], mlplmu_decision[i][70:88], mlplmu_decision[i][88:]]\n",
    "    \n",
    "mlplmu.to_pickle(\"../Data/Output/mlplmu.pkl\")"
   ]
  },
  {
   "cell_type": "markdown",
   "metadata": {},
   "source": [
    "**Calculate average number of frames used for training, and get total number of clips used for training (70% of low engagement x 2).**"
   ]
  },
  {
   "cell_type": "code",
   "execution_count": 9,
   "metadata": {},
   "outputs": [
    {
     "data": {
      "text/plain": [
       "72168.04"
      ]
     },
     "execution_count": 9,
     "metadata": {},
     "output_type": "execute_result"
    }
   ],
   "source": [
    "np.asarray(trainlen).mean()"
   ]
  },
  {
   "cell_type": "code",
   "execution_count": 10,
   "metadata": {},
   "outputs": [
    {
     "data": {
      "text/plain": [
       "126"
      ]
     },
     "execution_count": 10,
     "metadata": {},
     "output_type": "execute_result"
    }
   ],
   "source": [
    "loweng=np.load('loweng.npy',allow_pickle=True)\n",
    "len(loweng[:(int(len(loweng)*0.7))])*2"
   ]
  },
  {
   "cell_type": "code",
   "execution_count": null,
   "metadata": {},
   "outputs": [],
   "source": []
  }
 ],
 "metadata": {
  "kernelspec": {
   "display_name": "Python 3",
   "language": "python",
   "name": "python3"
  },
  "language_info": {
   "codemirror_mode": {
    "name": "ipython",
    "version": 3
   },
   "file_extension": ".py",
   "mimetype": "text/x-python",
   "name": "python",
   "nbconvert_exporter": "python",
   "pygments_lexer": "ipython3",
   "version": "3.8.3"
  }
 },
 "nbformat": 4,
 "nbformat_minor": 2
}
